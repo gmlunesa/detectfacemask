{
 "cells": [
  {
   "cell_type": "markdown",
   "metadata": {},
   "source": [
    "In this notebook, we will be pre-processing our dataset. Our images are placed in the dataset folder, divided between the with_mask and without_mask folders.\n",
    "\n",
    "    |-- dataset\n",
    "      |-- with_mask\n",
    "      |-- without_mask\n",
    "    \n",
    "The preprocessing of our dataset will involve the following:\n",
    "1. Get list of the images and their corresponding paths.\n",
    "2. Loop through the image path list.\n",
    "3. For each image, \n",
    " * Extract class label (the folder they belong to),\n",
    " * Resize it to desired pixels,\n",
    " * Convert it to number format,\n",
    " * Scale its pixel intensities to the range [-1, 1],\n",
    " * Append results to data and labels array.\n",
    "4. Convert the data and labels arrays to NumPy arrays.\n",
    "5. Save NumPy arrays as files.\n",
    " \n",
    "This notebook will have 2 outputs:\n",
    "* data.npy\n",
    "* labels.npy\n"
   ]
  },
  {
   "cell_type": "code",
   "execution_count": 1,
   "metadata": {},
   "outputs": [],
   "source": [
    "# Import the necessary packages and libraries\n",
    "import matplotlib.pyplot as plt\n",
    "import numpy as np\n",
    "import os\n",
    "from imutils import paths\n",
    "\n",
    "from tensorflow.keras.preprocessing.image import load_img\n",
    "from tensorflow.keras.preprocessing.image import img_to_array\n",
    "from tensorflow.keras.applications.mobilenet_v2 import preprocess_input\n",
    "\n",
    "data = []\n",
    "labels = []\n",
    "imageSize = 224\n",
    "\n",
    "# Get list of images and their paths in the dataset directory\n",
    "imagePaths = list(paths.list_images('dataset'))\n",
    "\n",
    "# Loop over the image paths\n",
    "for imagePath in imagePaths:\n",
    "    # Extract the class label from the filename (folder name)\n",
    "    label = imagePath.split(os.path.sep)[-2]\n",
    "    \n",
    "    # Load the input image and resize it to desired pixels\n",
    "    image = load_img(imagePath, target_size=(imageSize, imageSize))\n",
    "    # Convert input image to array format\n",
    "    image = img_to_array(image)\n",
    "    # Scale the pixel intensities in the input image to the range [-1, 1]\n",
    "    image = preprocess_input(image)\n",
    "    \n",
    "    # Append to the data and label list\n",
    "    data.append(image)\n",
    "    labels.append(label)\n",
    "\n",
    "\n",
    "# Convert the data and label list to NumPy arrays\n",
    "data = np.array(data, dtype=\"float32\")\n",
    "labels = np.array(labels)\n",
    "\n",
    "# Save NumPy arrays as files to be reused\n",
    "np.save('data.npy', data)\n",
    "np.save('labels.npy', labels)"
   ]
  }
 ],
 "metadata": {
  "kernelspec": {
   "display_name": "Python 3",
   "language": "python",
   "name": "python3"
  },
  "language_info": {
   "codemirror_mode": {
    "name": "ipython",
    "version": 3
   },
   "file_extension": ".py",
   "mimetype": "text/x-python",
   "name": "python",
   "nbconvert_exporter": "python",
   "pygments_lexer": "ipython3",
   "version": "3.7.6"
  }
 },
 "nbformat": 4,
 "nbformat_minor": 4
}
