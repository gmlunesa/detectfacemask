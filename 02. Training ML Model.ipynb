{
 "cells": [
  {
   "cell_type": "code",
   "execution_count": 1,
   "metadata": {},
   "outputs": [],
   "source": [
    "# Import the necessary packages\n",
    "import matplotlib.pyplot as plt\n",
    "import numpy as np\n",
    "import os\n",
    "\n",
    "from tensorflow.keras.preprocessing.image import ImageDataGenerator\n",
    "from tensorflow.keras.applications import MobileNetV2\n",
    "from tensorflow.keras.layers import AveragePooling2D\n",
    "from tensorflow.keras.layers import Dropout\n",
    "from tensorflow.keras.layers import Flatten\n",
    "from tensorflow.keras.layers import Dense\n",
    "from tensorflow.keras.layers import Input\n",
    "from tensorflow.keras.models import Model\n",
    "from tensorflow.keras.optimizers import Adam\n",
    "from tensorflow.keras.utils import to_categorical\n",
    "from sklearn.preprocessing import LabelBinarizer\n",
    "from sklearn.model_selection import train_test_split\n",
    "from sklearn.metrics import classification_report"
   ]
  },
  {
   "cell_type": "code",
   "execution_count": 2,
   "metadata": {},
   "outputs": [],
   "source": [
    "# Load preprocessed data stored in NumPy arrays\n",
    "data = np.load('data.npy')\n",
    "labels = np.load('labels.npy')\n",
    "\n",
    "# Declare hyperparameter constants\n",
    "    # Initial learning rate\n",
    "    # Epoch number\n",
    "    # Batch size\n",
    "INIT_LR = 1e-4\n",
    "EPOCHS = 20\n",
    "BS = 32"
   ]
  },
  {
   "cell_type": "code",
   "execution_count": 3,
   "metadata": {},
   "outputs": [],
   "source": [
    "# Apply one-hot encoding on the labels\n",
    "lb = LabelBinarizer()\n",
    "labels = lb.fit_transform(labels)\n",
    "labels = to_categorical(labels)\n",
    "\n",
    "# Split data to two partitions: training set (80%) and testing set (20%)\n",
    "(trainX, testX, trainY, testY) = train_test_split(data, labels,\n",
    "\ttest_size=0.20, stratify=labels, random_state=42)\n",
    "\n",
    "# Prepare image generator for training data augmentation\n",
    "aug = ImageDataGenerator(\n",
    "    rotation_range=20,\n",
    "    zoom_range=0.15,\n",
    "    width_shift_range=0.2,\n",
    "    height_shift_range=0.2,\n",
    "    shear_range=0.15,\n",
    "    horizontal_flip=True,\n",
    "    fill_mode=\"nearest\")"
   ]
  },
  {
   "cell_type": "code",
   "execution_count": 4,
   "metadata": {},
   "outputs": [
    {
     "name": "stderr",
     "output_type": "stream",
     "text": [
      "C:\\Users\\lunesa\\anaconda3\\envs\\env-a\\lib\\site-packages\\keras_applications\\mobilenet_v2.py:294: UserWarning: `input_shape` is undefined or non-square, or `rows` is not in [96, 128, 160, 192, 224]. Weights for input shape (224, 224) will be loaded as the default.\n",
      "  warnings.warn('`input_shape` is undefined or non-square, '\n"
     ]
    },
    {
     "name": "stdout",
     "output_type": "stream",
     "text": [
      "WARNING:tensorflow:sample_weight modes were coerced from\n",
      "  ...\n",
      "    to  \n",
      "  ['...']\n",
      "Train for 34 steps, validate on 276 samples\n",
      "Epoch 1/20\n",
      "34/34 [==============================] - 248s 7s/step - loss: 0.7129 - accuracy: 0.6320 - val_loss: 0.3795 - val_accuracy: 0.8594\n",
      "Epoch 2/20\n",
      "34/34 [==============================] - 248s 7s/step - loss: 0.4507 - accuracy: 0.7846 - val_loss: 0.2225 - val_accuracy: 0.9414\n",
      "Epoch 3/20\n",
      "34/34 [==============================] - 249s 7s/step - loss: 0.3243 - accuracy: 0.8642 - val_loss: 0.1616 - val_accuracy: 0.9609\n",
      "Epoch 4/20\n",
      "34/34 [==============================] - 287s 8s/step - loss: 0.2686 - accuracy: 0.8933 - val_loss: 0.1312 - val_accuracy: 0.9648\n",
      "Epoch 5/20\n",
      "34/34 [==============================] - 229s 7s/step - loss: 0.2196 - accuracy: 0.9157 - val_loss: 0.1025 - val_accuracy: 0.9648\n",
      "Epoch 6/20\n",
      "34/34 [==============================] - 218s 6s/step - loss: 0.2241 - accuracy: 0.9139 - val_loss: 0.0865 - val_accuracy: 0.9688\n",
      "Epoch 7/20\n",
      "34/34 [==============================] - 222s 7s/step - loss: 0.1798 - accuracy: 0.9316 - val_loss: 0.0738 - val_accuracy: 0.9727\n",
      "Epoch 8/20\n",
      "34/34 [==============================] - 226s 7s/step - loss: 0.1751 - accuracy: 0.9354 - val_loss: 0.0717 - val_accuracy: 0.9844\n",
      "Epoch 9/20\n",
      "34/34 [==============================] - 224s 7s/step - loss: 0.1499 - accuracy: 0.9476 - val_loss: 0.0587 - val_accuracy: 0.9805\n",
      "Epoch 10/20\n",
      "34/34 [==============================] - 221s 6s/step - loss: 0.1509 - accuracy: 0.9382 - val_loss: 0.0575 - val_accuracy: 0.9805\n",
      "Epoch 11/20\n",
      "34/34 [==============================] - 220s 6s/step - loss: 0.1335 - accuracy: 0.9466 - val_loss: 0.0548 - val_accuracy: 0.9805\n",
      "Epoch 12/20\n",
      "34/34 [==============================] - 221s 7s/step - loss: 0.1279 - accuracy: 0.9457 - val_loss: 0.0613 - val_accuracy: 0.9844\n",
      "Epoch 13/20\n",
      "34/34 [==============================] - 224s 7s/step - loss: 0.1122 - accuracy: 0.9551 - val_loss: 0.0480 - val_accuracy: 0.9844\n",
      "Epoch 14/20\n",
      "34/34 [==============================] - 222s 7s/step - loss: 0.1033 - accuracy: 0.9691 - val_loss: 0.0669 - val_accuracy: 0.9844\n",
      "Epoch 15/20\n",
      "34/34 [==============================] - 221s 7s/step - loss: 0.1061 - accuracy: 0.9597 - val_loss: 0.0464 - val_accuracy: 0.9844\n",
      "Epoch 16/20\n",
      "34/34 [==============================] - 229s 7s/step - loss: 0.0954 - accuracy: 0.9644 - val_loss: 0.0465 - val_accuracy: 0.9844\n",
      "Epoch 17/20\n",
      "34/34 [==============================] - 229s 7s/step - loss: 0.1022 - accuracy: 0.9635 - val_loss: 0.0588 - val_accuracy: 0.9844\n",
      "Epoch 18/20\n",
      "34/34 [==============================] - 229s 7s/step - loss: 0.1015 - accuracy: 0.9625 - val_loss: 0.0516 - val_accuracy: 0.9844\n",
      "Epoch 19/20\n",
      "34/34 [==============================] - 214s 6s/step - loss: 0.0847 - accuracy: 0.9682 - val_loss: 0.0496 - val_accuracy: 0.9844\n",
      "Epoch 20/20\n",
      "34/34 [==============================] - 218s 6s/step - loss: 0.0917 - accuracy: 0.9616 - val_loss: 0.0509 - val_accuracy: 0.9844\n",
      "              precision    recall  f1-score   support\n",
      "\n",
      "   with_mask       0.97      1.00      0.99       138\n",
      "without_mask       1.00      0.97      0.99       138\n",
      "\n",
      "    accuracy                           0.99       276\n",
      "   macro avg       0.99      0.99      0.99       276\n",
      "weighted avg       0.99      0.99      0.99       276\n",
      "\n"
     ]
    }
   ],
   "source": [
    "imageSize=224\n",
    "\n",
    "# Load the MobileNetV2 network with pre-trained weights (imagenet)\n",
    "# and excluding head network layer\n",
    "baseModel = MobileNetV2(weights=\"imagenet\", include_top=False,\n",
    "    input_tensor=Input(shape=(imageSize, imageSize, 3)))\n",
    "\n",
    "# Build a new head network layer\n",
    "headModel = baseModel.output\n",
    "headModel = AveragePooling2D(pool_size=(7, 7))(headModel)\n",
    "headModel = Flatten(name=\"flatten\")(headModel)\n",
    "headModel = Dense(128, activation=\"relu\")(headModel)\n",
    "headModel = Dropout(0.5)(headModel)\n",
    "headModel = Dense(2, activation=\"softmax\")(headModel)\n",
    "\n",
    "# Prepend new head Fully Connected model to the base model\n",
    "model = Model(inputs=baseModel.input, outputs=headModel)\n",
    "\n",
    "# Loop over layers of base model and make sure they will not be\n",
    "# trained or updated during the backpropagation process\n",
    "for layer in baseModel.layers:\n",
    "    layer.trainable = False\n",
    "    \n",
    "# Compile the model\n",
    "opt = Adam(lr=INIT_LR, decay=INIT_LR / EPOCHS)\n",
    "model.compile(loss=\"binary_crossentropy\", optimizer=opt,\n",
    "    metrics=[\"accuracy\"])\n",
    "\n",
    "# Train the head layer of the model\n",
    "H = model.fit(\n",
    "    aug.flow(trainX, trainY, batch_size=BS),\n",
    "    steps_per_epoch=len(trainX) // BS,\n",
    "    validation_data=(testX, testY),\n",
    "    validation_steps=len(testX) // BS,\n",
    "    epochs=EPOCHS)\n",
    "\n",
    "# Make predictions on the testing set\n",
    "predIdxs = model.predict(testX, batch_size=BS)\n",
    "\n",
    "# For each image in the testing set, find the index of \n",
    "# the label with corresponding highest predicted probability\n",
    "predIdxs = np.argmax(predIdxs, axis=1)\n",
    "\n",
    "# Display classification report\n",
    "print(classification_report(testY.argmax(axis=1), predIdxs,\n",
    "    target_names=lb.classes_))\n",
    "\n",
    "# Serialize the model to file\n",
    "model.save('mask_detector.model', save_format=\"h5\")"
   ]
  },
  {
   "cell_type": "code",
   "execution_count": 5,
   "metadata": {},
   "outputs": [
    {
     "data": {
      "image/png": "[encoded data removed]",
      "text/plain": [
       "<Figure size 432x288 with 1 Axes>"
      ]
     },
     "metadata": {},
     "output_type": "display_data"
    }
   ],
   "source": [
    "# Plot training and testing accuracy\n",
    "N = EPOCHS\n",
    "plt.style.use(\"ggplot\")\n",
    "plt.figure()\n",
    "plt.plot(np.arange(0, N), H.history[\"loss\"], label=\"train_loss\")\n",
    "plt.plot(np.arange(0, N), H.history[\"val_loss\"], label=\"val_loss\")\n",
    "plt.plot(np.arange(0, N), H.history[\"accuracy\"], label=\"train_acc\")\n",
    "plt.plot(np.arange(0, N), H.history[\"val_accuracy\"], label=\"val_acc\")\n",
    "plt.title(\"Training Loss and Accuracy\")\n",
    "plt.xlabel(\"Epoch #\")\n",
    "plt.ylabel(\"Loss/Accuracy\")\n",
    "plt.legend(loc=\"lower left\")\n",
    "plt.savefig('plot.png')"
   ]
  }
 ],
 "metadata": {
  "kernelspec": {
   "display_name": "Python 3",
   "language": "python",
   "name": "python3"
  },
  "language_info": {
   "codemirror_mode": {
    "name": "ipython",
    "version": 3
   },
   "file_extension": ".py",
   "mimetype": "text/x-python",
   "name": "python",
   "nbconvert_exporter": "python",
   "pygments_lexer": "ipython3",
   "version": "3.7.6"
  }
 },
 "nbformat": 4,
 "nbformat_minor": 4
}
